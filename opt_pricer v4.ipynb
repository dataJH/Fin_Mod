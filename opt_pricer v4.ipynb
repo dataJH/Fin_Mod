{
 "cells": [
  {
   "cell_type": "markdown",
   "metadata": {},
   "source": [
    "# Option Pricing model"
   ]
  },
  {
   "cell_type": "code",
   "execution_count": 1,
   "metadata": {},
   "outputs": [],
   "source": [
    "# This program calculates the fair value option price for put and call options using the Black-Scholes model.\n",
    "# The user can update inputs for the required pricing parameters in the next cell.\n",
    "# 20211107: expanded input for underlying prices from a single value to a list\n",
    "# 20211107.02: added visual for the payoff profile of the first call option at expiry\n",
    "\n",
    "import math\n",
    "from scipy.stats import norm\n",
    "import matplotlib.pyplot as plt"
   ]
  },
  {
   "cell_type": "markdown",
   "metadata": {},
   "source": [
    "# Inputs"
   ]
  },
  {
   "cell_type": "code",
   "execution_count": 2,
   "metadata": {},
   "outputs": [],
   "source": [
    "S = [10.0, 11.5, 12]   # stock price\n",
    "X = 9.0    # exercise price\n",
    "r = 0.02   # interest rate\n",
    "t = 0.5    # time to expiry, in years\n",
    "vol = 0.3  # volatility, annualized \n",
    "premium = 0.35 # premium paid or received (for first call option)\n",
    "# X = [9.0, 9.0, 10.5]    # exercise price\n",
    "# r = [0.02, 0.02, 0.02]   # interest rate\n",
    "# t = [0.5, 0.5, 1.0]    # time to expiry, in years\n",
    "# vol = [0.3, 0.3, 0.3]  # volatility, annualized "
   ]
  },
  {
   "cell_type": "markdown",
   "metadata": {},
   "source": [
    "# Calculations"
   ]
  },
  {
   "cell_type": "code",
   "execution_count": 3,
   "metadata": {},
   "outputs": [
    {
     "name": "stdout",
     "output_type": "stream",
     "text": [
      "Call values: \n",
      "[1.385063213008336, 2.6058598863759115, 3.0578855128000986]\n",
      "\n",
      " \n",
      "Put values: \n",
      "[0.39501337925916885, 0.13073530200299102, 0.0877360115525945]\n"
     ]
    }
   ],
   "source": [
    "call_values = []\n",
    "put_values = []\n",
    "\n",
    "for i in range(len(S)):\n",
    "    d1 = (math.log(S[i]/X) + 0.5*(vol*vol)*t) / (vol*math.sqrt(t))\n",
    "    d2 = d1 - vol*math.sqrt(t)\n",
    "    Nd1=norm.cdf(d1)\n",
    "    Nd2=norm.cdf(d2)\n",
    "    # S*Nd1 - X*Nd2\n",
    "    call = math.exp(-r*t)*(S[i]*Nd1 - X*Nd2)\n",
    "    # print('Call value is: ' + str(call))\n",
    "    call_values.append(call)\n",
    "    put = math.exp(-r*t)*(X*(1-Nd2)-S[i]*(1-Nd1))\n",
    "    # print('Put value is: ' + str(put))\n",
    "    put_values.append(put)\n",
    "print('Call values: ')\n",
    "print(call_values)\n",
    "print ('\\n ')\n",
    "print('Put values: ')\n",
    "print(put_values)"
   ]
  },
  {
   "cell_type": "markdown",
   "metadata": {},
   "source": [
    "# Visualization"
   ]
  },
  {
   "cell_type": "code",
   "execution_count": 4,
   "metadata": {},
   "outputs": [],
   "source": [
    "# Call value at expiry\n",
    "# input: premiums paid/received\n",
    "# Profit_Loss = y = S - X - c\n",
    "# x = Underlying price = S     -5, -4, -3, -2, -1, -.75, , -.5, -.25, -.1, 0, +.1, +.25....\n",
    "S_increments = [-5, -4, -3, -2, -1, -.75, -.5, -.25, -.1, 0, +.1, +.25, +.5, +.75, +1, +2, +3, +4, +5]\n",
    "call_profit = []\n",
    "S_T = []\n",
    "# underlying price at option expiry, time T\n",
    "for i in range(len(S_increments)):\n",
    "    S_T.append(S[0]+S_increments[i])\n",
    "    y = max(S_T[i]-X,0) - premium\n",
    "    call_profit.append(y)"
   ]
  },
  {
   "cell_type": "code",
   "execution_count": 5,
   "metadata": {},
   "outputs": [
    {
     "data": {
      "text/plain": [
       "Text(0.5, 0, 'Underlying price at option expiry (time=T)')"
      ]
     },
     "execution_count": 5,
     "metadata": {},
     "output_type": "execute_result"
    },
    {
     "data": {
      "image/png": "[encoded data removed]",
      "text/plain": [
       "<Figure size 432x288 with 1 Axes>"
      ]
     },
     "metadata": {
      "needs_background": "light"
     },
     "output_type": "display_data"
    }
   ],
   "source": [
    "plt.plot(S_T, call_profit)\n",
    "plt.title('Profit & Loss at option expiry, for call option 1')\n",
    "plt.ylabel('Profit & Loss')\n",
    "plt.xlabel('Underlying price at option expiry (time=T)')"
   ]
  },
  {
   "cell_type": "code",
   "execution_count": null,
   "metadata": {},
   "outputs": [],
   "source": []
  }
 ],
 "metadata": {
  "kernelspec": {
   "display_name": "Python 3",
   "language": "python",
   "name": "python3"
  },
  "language_info": {
   "codemirror_mode": {
    "name": "ipython",
    "version": 3
   },
   "file_extension": ".py",
   "mimetype": "text/x-python",
   "name": "python",
   "nbconvert_exporter": "python",
   "pygments_lexer": "ipython3",
   "version": "3.8.8"
  }
 },
 "nbformat": 4,
 "nbformat_minor": 4
}
