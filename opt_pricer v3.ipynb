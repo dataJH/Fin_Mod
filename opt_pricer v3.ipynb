{
 "cells": [
  {
   "cell_type": "code",
   "execution_count": 17,
   "metadata": {},
   "outputs": [],
   "source": [
    "# This program calculates the fair value option price for put and call options using the Black-Scholes model.\n",
    "# The user can update inputs for the required pricing parameters in the next cell.\n",
    "# 20211107: expanded input for underlying prices from a single value to a list\n",
    "import math\n",
    "from scipy.stats import norm"
   ]
  },
  {
   "cell_type": "code",
   "execution_count": 18,
   "metadata": {},
   "outputs": [],
   "source": [
    "S = [10.0, 11.5, 12]   # stock price\n",
    "X = 9.0    # exercise price\n",
    "r = 0.02   # interest rate\n",
    "t = 0.5    # time to expiry, in years\n",
    "vol = 0.3  # volatility, annualized "
   ]
  },
  {
   "cell_type": "code",
   "execution_count": 19,
   "metadata": {},
   "outputs": [
    {
     "name": "stdout",
     "output_type": "stream",
     "text": [
      "Call values: \n",
      "[1.385063213008336, 2.6058598863759115, 3.0578855128000986]\n",
      "\n",
      " \n",
      "Put values: \n",
      "[0.39501337925916885, 0.13073530200299102, 0.0877360115525945]\n"
     ]
    }
   ],
   "source": [
    "call_values = []\n",
    "put_values = []\n",
    "for i in range(len(S)):\n",
    "    d1 = (math.log(S[i]/X) + 0.5*(vol*vol)*t) / (vol*math.sqrt(t))\n",
    "    d2 = d1 - vol*math.sqrt(t)\n",
    "    Nd1=norm.cdf(d1)\n",
    "    Nd2=norm.cdf(d2)\n",
    "    # S*Nd1 - X*Nd2\n",
    "    call = math.exp(-r*t)*(S[i]*Nd1 - X*Nd2)\n",
    "    # print('Call value is: ' + str(call))\n",
    "    call_values.append(call)\n",
    "    put = math.exp(-r*t)*(X*(1-Nd2)-S[i]*(1-Nd1))\n",
    "    # print('Put value is: ' + str(put))\n",
    "    put_values.append(put)\n",
    "print('Call values: ')\n",
    "print(call_values)\n",
    "print ('\\n ')\n",
    "print('Put values: ')\n",
    "print(put_values)"
   ]
  },
  {
   "cell_type": "code",
   "execution_count": null,
   "metadata": {},
   "outputs": [],
   "source": []
  }
 ],
 "metadata": {
  "kernelspec": {
   "display_name": "Python 3",
   "language": "python",
   "name": "python3"
  },
  "language_info": {
   "codemirror_mode": {
    "name": "ipython",
    "version": 3
   },
   "file_extension": ".py",
   "mimetype": "text/x-python",
   "name": "python",
   "nbconvert_exporter": "python",
   "pygments_lexer": "ipython3",
   "version": "3.8.8"
  }
 },
 "nbformat": 4,
 "nbformat_minor": 4
}
