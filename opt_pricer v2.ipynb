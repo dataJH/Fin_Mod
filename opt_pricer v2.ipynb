{
 "cells": [
  {
   "cell_type": "code",
   "execution_count": 40,
   "metadata": {},
   "outputs": [],
   "source": [
    "# This program calculates the fair value option price for put and call options using the Black-Scholes model.\n",
    "# The user can update inputs for the required pricing parameters in the next cell.\n",
    "# 20211030: Displays option type, theoretical value and whether the option is in-, at- or out-of-the-money. \n",
    "\n",
    "import math\n",
    "from scipy.stats import norm"
   ]
  },
  {
   "cell_type": "code",
   "execution_count": 41,
   "metadata": {},
   "outputs": [],
   "source": [
    "S = 10.0   # stock price\n",
    "X = 9.0    # exercise price\n",
    "r = 0.02   # interest rate\n",
    "t = 0.5    # time to expiry, in years\n",
    "vol = 0.3  # volatility, annualized "
   ]
  },
  {
   "cell_type": "code",
   "execution_count": 42,
   "metadata": {},
   "outputs": [],
   "source": [
    "d1 = (math.log(S/X) + 0.5*(vol*vol)*t) / (vol*math.sqrt(t))\n",
    "d2 = d1 - vol*math.sqrt(t)\n",
    "Nd1=norm.cdf(d1)\n",
    "Nd2=norm.cdf(d2)\n",
    "# S*Nd1 - X*Nd2"
   ]
  },
  {
   "cell_type": "code",
   "execution_count": 43,
   "metadata": {},
   "outputs": [
    {
     "name": "stdout",
     "output_type": "stream",
     "text": [
      "Call value is: 1.385063213008336\n"
     ]
    }
   ],
   "source": [
    "call = math.exp(-r*t)*(S*Nd1 - X*Nd2)\n",
    "print('Call value is: ' + str(call))"
   ]
  },
  {
   "cell_type": "code",
   "execution_count": 44,
   "metadata": {},
   "outputs": [
    {
     "name": "stdout",
     "output_type": "stream",
     "text": [
      "Put value is: 0.39501337925916885\n"
     ]
    }
   ],
   "source": [
    "put = math.exp(-r*t)*(X*(1-Nd2)-S*(1-Nd1))\n",
    "print('Put value is: ' + str(put))"
   ]
  },
  {
   "cell_type": "code",
   "execution_count": 45,
   "metadata": {},
   "outputs": [
    {
     "name": "stdout",
     "output_type": "stream",
     "text": [
      "Call is IN-the-money. Put is OUT-of-the-money.\n"
     ]
    }
   ],
   "source": [
    "if (S-X == 0):\n",
    "    print('Option is AT-the-money')\n",
    "elif (S-X > 0):\n",
    "    print('Call is IN-the-money. Put is OUT-of-the-money.')\n",
    "else:\n",
    "    print('Call is OUT-of-the-money. Put is IN-the-money.')"
   ]
  },
  {
   "cell_type": "code",
   "execution_count": null,
   "metadata": {},
   "outputs": [],
   "source": []
  }
 ],
 "metadata": {
  "kernelspec": {
   "display_name": "Python 3",
   "language": "python",
   "name": "python3"
  },
  "language_info": {
   "codemirror_mode": {
    "name": "ipython",
    "version": 3
   },
   "file_extension": ".py",
   "mimetype": "text/x-python",
   "name": "python",
   "nbconvert_exporter": "python",
   "pygments_lexer": "ipython3",
   "version": "3.8.8"
  }
 },
 "nbformat": 4,
 "nbformat_minor": 4
}
