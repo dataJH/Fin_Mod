{
 "cells": [
  {
   "cell_type": "markdown",
   "metadata": {},
   "source": [
    "# Option Pricing model"
   ]
  },
  {
   "cell_type": "code",
   "execution_count": 1,
   "metadata": {},
   "outputs": [],
   "source": [
    "'''\n",
    "# This program calculates the fair value option price for put and call options using the Black-Scholes model.\n",
    "# 20211107: expanded input for underlying prices from a single value to a list\n",
    "# 20211107.02: added visual for the payoff profile of the first call option at expiry\n",
    "# 20211107.03: read input from CSV file (sample datafile in repo), \n",
    "                calculate theoretical option values for a series of multiple inputs\n",
    "                writes output to CSV file\n",
    "'''\n",
    "import math\n",
    "from scipy.stats import norm\n",
    "import matplotlib.pyplot as plt\n",
    "import pandas as pd"
   ]
  },
  {
   "cell_type": "markdown",
   "metadata": {},
   "source": [
    "# Inputs"
   ]
  },
  {
   "cell_type": "code",
   "execution_count": 2,
   "metadata": {},
   "outputs": [
    {
     "data": {
      "text/plain": [
       "'\\nInput file should contain 7 columns as follows:\\nS = underlying price\\nX = exercise price\\nr = interest rate in decimal form. i.e. 2% = 0.02\\nt = time to expiry, in years. For example, 6 months = 0.5\\nvol = volatility, annualized. For exammple, 25% = 0.25\\ncall_premium = call option, quoted(observed) value \\nput_premium = put option, quoted(observed) value  \\n'"
      ]
     },
     "execution_count": 2,
     "metadata": {},
     "output_type": "execute_result"
    }
   ],
   "source": [
    "'''\n",
    "Input file should contain 7 columns as follows:\n",
    "S = underlying price\n",
    "X = exercise price\n",
    "r = interest rate in decimal form. i.e. 2% = 0.02\n",
    "t = time to expiry, in years. For example, 6 months = 0.5\n",
    "vol = volatility, annualized. For exammple, 25% = 0.25\n",
    "call_premium = call option, quoted(observed) value \n",
    "put_premium = put option, quoted(observed) value  \n",
    "'''"
   ]
  },
  {
   "cell_type": "code",
   "execution_count": 3,
   "metadata": {},
   "outputs": [],
   "source": [
    "df = pd.read_csv('option_inputs.csv')"
   ]
  },
  {
   "cell_type": "code",
   "execution_count": 4,
   "metadata": {},
   "outputs": [
    {
     "data": {
      "text/html": [
       "<div>\n",
       "<style scoped>\n",
       "    .dataframe tbody tr th:only-of-type {\n",
       "        vertical-align: middle;\n",
       "    }\n",
       "\n",
       "    .dataframe tbody tr th {\n",
       "        vertical-align: top;\n",
       "    }\n",
       "\n",
       "    .dataframe thead th {\n",
       "        text-align: right;\n",
       "    }\n",
       "</style>\n",
       "<table border=\"1\" class=\"dataframe\">\n",
       "  <thead>\n",
       "    <tr style=\"text-align: right;\">\n",
       "      <th></th>\n",
       "      <th>S</th>\n",
       "      <th>X</th>\n",
       "      <th>r</th>\n",
       "      <th>t</th>\n",
       "      <th>vol</th>\n",
       "      <th>call_premium</th>\n",
       "      <th>put_premium</th>\n",
       "    </tr>\n",
       "  </thead>\n",
       "  <tbody>\n",
       "    <tr>\n",
       "      <th>0</th>\n",
       "      <td>10.0</td>\n",
       "      <td>9.0</td>\n",
       "      <td>0.02</td>\n",
       "      <td>0.5</td>\n",
       "      <td>0.3</td>\n",
       "      <td>1.38</td>\n",
       "      <td>0.35</td>\n",
       "    </tr>\n",
       "    <tr>\n",
       "      <th>1</th>\n",
       "      <td>11.5</td>\n",
       "      <td>9.0</td>\n",
       "      <td>0.02</td>\n",
       "      <td>0.5</td>\n",
       "      <td>0.3</td>\n",
       "      <td>2.60</td>\n",
       "      <td>0.28</td>\n",
       "    </tr>\n",
       "    <tr>\n",
       "      <th>2</th>\n",
       "      <td>12.0</td>\n",
       "      <td>9.0</td>\n",
       "      <td>0.02</td>\n",
       "      <td>0.5</td>\n",
       "      <td>0.3</td>\n",
       "      <td>3.06</td>\n",
       "      <td>0.22</td>\n",
       "    </tr>\n",
       "    <tr>\n",
       "      <th>3</th>\n",
       "      <td>10.0</td>\n",
       "      <td>10.0</td>\n",
       "      <td>0.02</td>\n",
       "      <td>0.5</td>\n",
       "      <td>0.3</td>\n",
       "      <td>0.85</td>\n",
       "      <td>0.36</td>\n",
       "    </tr>\n",
       "    <tr>\n",
       "      <th>4</th>\n",
       "      <td>11.5</td>\n",
       "      <td>10.0</td>\n",
       "      <td>0.02</td>\n",
       "      <td>0.5</td>\n",
       "      <td>0.3</td>\n",
       "      <td>1.85</td>\n",
       "      <td>0.29</td>\n",
       "    </tr>\n",
       "  </tbody>\n",
       "</table>\n",
       "</div>"
      ],
      "text/plain": [
       "      S     X     r    t  vol  call_premium  put_premium\n",
       "0  10.0   9.0  0.02  0.5  0.3          1.38         0.35\n",
       "1  11.5   9.0  0.02  0.5  0.3          2.60         0.28\n",
       "2  12.0   9.0  0.02  0.5  0.3          3.06         0.22\n",
       "3  10.0  10.0  0.02  0.5  0.3          0.85         0.36\n",
       "4  11.5  10.0  0.02  0.5  0.3          1.85         0.29"
      ]
     },
     "execution_count": 4,
     "metadata": {},
     "output_type": "execute_result"
    }
   ],
   "source": [
    "df.head()"
   ]
  },
  {
   "cell_type": "markdown",
   "metadata": {},
   "source": [
    "# Calculations"
   ]
  },
  {
   "cell_type": "code",
   "execution_count": 5,
   "metadata": {},
   "outputs": [],
   "source": [
    "call_values = []\n",
    "put_values = []\n",
    "\n",
    "for i in range(len(df.S)):\n",
    "    d1 = (math.log(df.S[i]/df.X[i]) + 0.5*(df.vol[i]*df.vol[i])*df.t[i]) / (df.vol*math.sqrt(df.t[i]))\n",
    "    d2 = d1 - df.vol[i]*math.sqrt(df.t[i])\n",
    "    Nd1=norm.cdf(d1)\n",
    "    Nd2=norm.cdf(d2)\n",
    "    call = math.exp(-1*df.r[i]*df.t[i])*(df.S[i]*Nd1 - df.X[i]*Nd2)\n",
    "    call_values.append(call[i])\n",
    "    put = math.exp(-1*df.r[i]*df.t[i])*(df.X[i]*(1-Nd2)-df.S[i]*(1-Nd1))\n",
    "    put_values.append(put[i])"
   ]
  },
  {
   "cell_type": "code",
   "execution_count": 6,
   "metadata": {},
   "outputs": [
    {
     "data": {
      "text/html": [
       "<div>\n",
       "<style scoped>\n",
       "    .dataframe tbody tr th:only-of-type {\n",
       "        vertical-align: middle;\n",
       "    }\n",
       "\n",
       "    .dataframe tbody tr th {\n",
       "        vertical-align: top;\n",
       "    }\n",
       "\n",
       "    .dataframe thead th {\n",
       "        text-align: right;\n",
       "    }\n",
       "</style>\n",
       "<table border=\"1\" class=\"dataframe\">\n",
       "  <thead>\n",
       "    <tr style=\"text-align: right;\">\n",
       "      <th></th>\n",
       "      <th>S</th>\n",
       "      <th>X</th>\n",
       "      <th>r</th>\n",
       "      <th>t</th>\n",
       "      <th>vol</th>\n",
       "      <th>call_premium</th>\n",
       "      <th>put_premium</th>\n",
       "      <th>call_value</th>\n",
       "      <th>put_value</th>\n",
       "    </tr>\n",
       "  </thead>\n",
       "  <tbody>\n",
       "    <tr>\n",
       "      <th>0</th>\n",
       "      <td>10.0</td>\n",
       "      <td>9.0</td>\n",
       "      <td>0.02</td>\n",
       "      <td>0.5</td>\n",
       "      <td>0.3</td>\n",
       "      <td>1.38</td>\n",
       "      <td>0.35</td>\n",
       "      <td>1.385063</td>\n",
       "      <td>0.395013</td>\n",
       "    </tr>\n",
       "    <tr>\n",
       "      <th>1</th>\n",
       "      <td>11.5</td>\n",
       "      <td>9.0</td>\n",
       "      <td>0.02</td>\n",
       "      <td>0.5</td>\n",
       "      <td>0.3</td>\n",
       "      <td>2.60</td>\n",
       "      <td>0.28</td>\n",
       "      <td>2.605860</td>\n",
       "      <td>0.130735</td>\n",
       "    </tr>\n",
       "    <tr>\n",
       "      <th>2</th>\n",
       "      <td>12.0</td>\n",
       "      <td>9.0</td>\n",
       "      <td>0.02</td>\n",
       "      <td>0.5</td>\n",
       "      <td>0.3</td>\n",
       "      <td>3.06</td>\n",
       "      <td>0.22</td>\n",
       "      <td>3.057886</td>\n",
       "      <td>0.087736</td>\n",
       "    </tr>\n",
       "    <tr>\n",
       "      <th>3</th>\n",
       "      <td>10.0</td>\n",
       "      <td>10.0</td>\n",
       "      <td>0.02</td>\n",
       "      <td>0.5</td>\n",
       "      <td>0.3</td>\n",
       "      <td>0.85</td>\n",
       "      <td>0.36</td>\n",
       "      <td>0.836295</td>\n",
       "      <td>0.836295</td>\n",
       "    </tr>\n",
       "    <tr>\n",
       "      <th>4</th>\n",
       "      <td>11.5</td>\n",
       "      <td>10.0</td>\n",
       "      <td>0.02</td>\n",
       "      <td>0.5</td>\n",
       "      <td>0.3</td>\n",
       "      <td>1.85</td>\n",
       "      <td>0.29</td>\n",
       "      <td>1.828828</td>\n",
       "      <td>0.343753</td>\n",
       "    </tr>\n",
       "  </tbody>\n",
       "</table>\n",
       "</div>"
      ],
      "text/plain": [
       "      S     X     r    t  vol  call_premium  put_premium  call_value  \\\n",
       "0  10.0   9.0  0.02  0.5  0.3          1.38         0.35    1.385063   \n",
       "1  11.5   9.0  0.02  0.5  0.3          2.60         0.28    2.605860   \n",
       "2  12.0   9.0  0.02  0.5  0.3          3.06         0.22    3.057886   \n",
       "3  10.0  10.0  0.02  0.5  0.3          0.85         0.36    0.836295   \n",
       "4  11.5  10.0  0.02  0.5  0.3          1.85         0.29    1.828828   \n",
       "\n",
       "   put_value  \n",
       "0   0.395013  \n",
       "1   0.130735  \n",
       "2   0.087736  \n",
       "3   0.836295  \n",
       "4   0.343753  "
      ]
     },
     "execution_count": 6,
     "metadata": {},
     "output_type": "execute_result"
    }
   ],
   "source": [
    "df = df.assign(call_value=pd.Series(call_values).values)\n",
    "df = df.assign(put_value=pd.Series(put_values).values)\n",
    "df.head()"
   ]
  },
  {
   "cell_type": "markdown",
   "metadata": {},
   "source": [
    "# Output"
   ]
  },
  {
   "cell_type": "code",
   "execution_count": 7,
   "metadata": {},
   "outputs": [],
   "source": [
    "df.to_csv('option_outputs.csv')"
   ]
  },
  {
   "cell_type": "markdown",
   "metadata": {},
   "source": [
    "# Visualization"
   ]
  },
  {
   "cell_type": "code",
   "execution_count": 8,
   "metadata": {},
   "outputs": [],
   "source": [
    "# Call value at expiry\n",
    "# Profit_Loss = y = S - X - c\n",
    "\n",
    "S_increments = [-5, -4, -3, -2, -1, -.75, -.5, -.25, -.1, 0, +.1, +.25, +.5, +.75, +1, +2, +3, +4, +5]\n",
    "S_T = []\n",
    "call_profit = []\n",
    "\n",
    "# underlying price at option expiry, time T\n",
    "for i in range(len(S_increments)):\n",
    "    S_T.append(df.S[0]+S_increments[i])\n",
    "    y = max(S_T[i]-df.X[0],0) - df.call_premium[0]\n",
    "    call_profit.append(y)"
   ]
  },
  {
   "cell_type": "code",
   "execution_count": 9,
   "metadata": {
    "scrolled": true
   },
   "outputs": [
    {
     "data": {
      "text/plain": [
       "Text(0.5, 0, 'Underlying price at option expiry (time=T)')"
      ]
     },
     "execution_count": 9,
     "metadata": {},
     "output_type": "execute_result"
    },
    {
     "data": {
      "image/png": "[encoded data removed]",
      "text/plain": [
       "<Figure size 432x288 with 1 Axes>"
      ]
     },
     "metadata": {
      "needs_background": "light"
     },
     "output_type": "display_data"
    }
   ],
   "source": [
    "plt.plot(S_T, call_profit)\n",
    "plt.title('Profit & Loss at option expiry, for long call position 1')\n",
    "plt.ylabel('Profit & Loss')\n",
    "plt.xlabel('Underlying price at option expiry (time=T)')"
   ]
  },
  {
   "cell_type": "code",
   "execution_count": null,
   "metadata": {},
   "outputs": [],
   "source": []
  }
 ],
 "metadata": {
  "kernelspec": {
   "display_name": "Python 3",
   "language": "python",
   "name": "python3"
  },
  "language_info": {
   "codemirror_mode": {
    "name": "ipython",
    "version": 3
   },
   "file_extension": ".py",
   "mimetype": "text/x-python",
   "name": "python",
   "nbconvert_exporter": "python",
   "pygments_lexer": "ipython3",
   "version": "3.8.8"
  }
 },
 "nbformat": 4,
 "nbformat_minor": 4
}
